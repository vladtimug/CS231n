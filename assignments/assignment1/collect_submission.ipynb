{
  "cells": [
    {
      "cell_type": "markdown",
      "metadata": {
        "id": "view-in-github",
        "colab_type": "text"
      },
      "source": [
        "<a href=\"https://colab.research.google.com/github/vladtimug/CS231n/blob/main/assignments/assignment1/collect_submission.ipynb\" target=\"_parent\"><img src=\"https://colab.research.google.com/assets/colab-badge.svg\" alt=\"Open In Colab\"/></a>"
      ]
    },
    {
      "cell_type": "code",
      "execution_count": null,
      "metadata": {
        "id": "Gtra-FrYenqP"
      },
      "outputs": [],
      "source": [
        "from google.colab import drive\n",
        "\n",
        "drive.mount('/content/drive', force_remount=True)\n",
        "\n",
        "# Enter the path in your Drive of the assignment.\n",
        "# e.g. 'cs231n/assignments/assignment1/'\n",
        "FOLDERNAME = None\n",
        "\n",
        "assert FOLDERNAME is not None, \"[!] Enter the foldername.\""
      ]
    },
    {
      "cell_type": "markdown",
      "metadata": {
        "id": "Ikp6FFv9enqS"
      },
      "source": [
        "# Collect Submission - Zip + Generate PDF \n",
        "\n",
        "Run this notebook once you have completed all the other notebooks: `knn.ipynb`, `svm.ipynb`, `softmax.ipynb`, `two_layer_net.ipynb` and `features.ipynb`).\n",
        "\n",
        "It will:\n",
        "\n",
        "* Generate a zip file of your code (`.py` and `.ipynb`) called `a1.zip`.\n",
        "* Convert all notebooks into a single PDF file called `assignment.pdf`.\n",
        "\n",
        "If your submission for this step was successful, you should see the following display message:\n",
        "\n",
        "`### Done! Please submit a1.zip and the pdfs to Gradescope. ###`\n",
        "\n",
        "Make sure to download the zip and pdf file locally to your computer, then submit to Gradescope. Congrats on succesfully completing the assignment!"
      ]
    },
    {
      "cell_type": "code",
      "execution_count": null,
      "metadata": {
        "id": "G_GE69hfenqV"
      },
      "outputs": [],
      "source": [
        "%cd drive/My\\ Drive\n",
        "%cd $FOLDERNAME\n",
        "!sudo apt-get install texlive-xetex texlive-fonts-recommended texlive-generic-recommended\n",
        "!pip install PyPDF2\n",
        "!bash collectSubmission.sh"
      ]
    }
  ],
  "metadata": {
    "colab": {
      "name": "collect_submission.ipynb",
      "provenance": [],
      "include_colab_link": true
    }
  },
  "nbformat": 4,
  "nbformat_minor": 0
}