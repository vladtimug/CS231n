{
  "nbformat": 4,
  "nbformat_minor": 0,
  "metadata": {
    "colab": {
      "name": "softmax.ipynb",
      "provenance": [],
      "collapsed_sections": [],
      "include_colab_link": true
    },
    "language_info": {
      "name": "python"
    },
    "kernelspec": {
      "name": "python3",
      "display_name": "Python 3"
    }
  },
  "cells": [
    {
      "cell_type": "markdown",
      "metadata": {
        "id": "view-in-github",
        "colab_type": "text"
      },
      "source": [
        "<a href=\"https://colab.research.google.com/github/vladtimug/CS231n/blob/main/assignments/assignment1/softmax.ipynb\" target=\"_parent\"><img src=\"https://colab.research.google.com/assets/colab-badge.svg\" alt=\"Open In Colab\"/></a>"
      ]
    },
    {
      "cell_type": "code",
      "metadata": {
        "id": "OCzwlCrtH34f",
        "outputId": "45fd7b19-cab9-4ac9-c953-406e2841a360",
        "colab": {
          "base_uri": "https://localhost:8080/"
        }
      },
      "source": [
        "# This mounts your Google Drive to the Colab VM.\n",
        "from google.colab import drive\n",
        "drive.mount('/content/drive', force_remount=True)\n",
        "\n",
        "# Enter the foldername in your Drive where you have saved the unzipped\n",
        "# assignment folder, e.g. 'cs231n/assignments/assignment1/'\n",
        "FOLDERNAME = 'cs231n/assignments/assignment1/'\n",
        "assert FOLDERNAME is not None, \"[!] Enter the foldername.\"\n",
        "\n",
        "# Now that we've mounted your Drive, this ensures that\n",
        "# the Python interpreter of the Colab VM can load\n",
        "# python files from within it.\n",
        "import sys\n",
        "sys.path.append('/content/drive/My Drive/{}'.format(FOLDERNAME))\n",
        "\n",
        "# This downloads the CIFAR-10 dataset to your Drive\n",
        "# if it doesn't already exist.\n",
        "%cd drive/My\\ Drive/$FOLDERNAME/cs231n/datasets/\n",
        "!bash get_datasets.sh\n",
        "%cd /content/drive/My\\ Drive/$FOLDERNAME"
      ],
      "execution_count": null,
      "outputs": [
        {
          "output_type": "stream",
          "name": "stdout",
          "text": [
            "Mounted at /content/drive\n",
            "/content/drive/My Drive/cs231n/assignments/assignment1/cs231n/datasets\n",
            "/content/drive/My Drive/cs231n/assignments/assignment1\n"
          ]
        }
      ]
    },
    {
      "cell_type": "markdown",
      "metadata": {
        "tags": [
          "pdf-title"
        ],
        "id": "cTD8r5QAH34m"
      },
      "source": [
        "# Softmax exercise\n",
        "\n",
        "*Complete and hand in this completed worksheet (including its outputs and any supporting code outside of the worksheet) with your assignment submission. For more details see the [assignments page](http://vision.stanford.edu/teaching/cs231n/assignments.html) on the course website.*\n",
        "\n",
        "This exercise is analogous to the SVM exercise. You will:\n",
        "\n",
        "- implement a fully-vectorized **loss function** for the Softmax classifier\n",
        "- implement the fully-vectorized expression for its **analytic gradient**\n",
        "- **check your implementation** with numerical gradient\n",
        "- use a validation set to **tune the learning rate and regularization** strength\n",
        "- **optimize** the loss function with **SGD**\n",
        "- **visualize** the final learned weights\n"
      ]
    },
    {
      "cell_type": "code",
      "metadata": {
        "tags": [
          "pdf-ignore"
        ],
        "id": "bkajB6D9H34o"
      },
      "source": [
        "import random\n",
        "import numpy as np\n",
        "from cs231n.data_utils import load_CIFAR10\n",
        "import matplotlib.pyplot as plt\n",
        "\n",
        "%matplotlib inline\n",
        "plt.rcParams['figure.figsize'] = (10.0, 8.0) # set default size of plots\n",
        "plt.rcParams['image.interpolation'] = 'nearest'\n",
        "plt.rcParams['image.cmap'] = 'gray'\n",
        "\n",
        "# for auto-reloading extenrnal modules\n",
        "# see http://stackoverflow.com/questions/1907993/autoreload-of-modules-in-ipython\n",
        "%load_ext autoreload\n",
        "%autoreload 2"
      ],
      "execution_count": null,
      "outputs": []
    },
    {
      "cell_type": "code",
      "metadata": {
        "tags": [
          "pdf-ignore"
        ],
        "id": "o3mlXMrOH34q",
        "colab": {
          "base_uri": "https://localhost:8080/"
        },
        "outputId": "e4a3f5a7-9fcb-45e3-e7ca-f1a65d351d98"
      },
      "source": [
        "def get_CIFAR10_data(num_training=49000, num_validation=1000, num_test=1000, num_dev=500):\n",
        "    \"\"\"\n",
        "    Load the CIFAR-10 dataset from disk and perform preprocessing to prepare\n",
        "    it for the linear classifier. These are the same steps as we used for the\n",
        "    SVM, but condensed to a single function.  \n",
        "    \"\"\"\n",
        "    # Load the raw CIFAR-10 data\n",
        "    cifar10_dir = 'cs231n/datasets/cifar-10-batches-py'\n",
        "    \n",
        "    # Cleaning up variables to prevent loading data multiple times (which may cause memory issue)\n",
        "    try:\n",
        "       del X_train, y_train\n",
        "       del X_test, y_test\n",
        "       print('Clear previously loaded data.')\n",
        "    except:\n",
        "       pass\n",
        "\n",
        "    X_train, y_train, X_test, y_test = load_CIFAR10(cifar10_dir)\n",
        "    \n",
        "    # subsample the data\n",
        "    mask = list(range(num_training, num_training + num_validation))\n",
        "    X_val = X_train[mask]\n",
        "    y_val = y_train[mask]\n",
        "    mask = list(range(num_training))\n",
        "    X_train = X_train[mask]\n",
        "    y_train = y_train[mask]\n",
        "    mask = list(range(num_test))\n",
        "    X_test = X_test[mask]\n",
        "    y_test = y_test[mask]\n",
        "    mask = np.random.choice(num_training, num_dev, replace=False)\n",
        "    X_dev = X_train[mask]\n",
        "    y_dev = y_train[mask]\n",
        "    \n",
        "    # Preprocessing: reshape the image data into rows\n",
        "    X_train = np.reshape(X_train, (X_train.shape[0], -1))\n",
        "    X_val = np.reshape(X_val, (X_val.shape[0], -1))\n",
        "    X_test = np.reshape(X_test, (X_test.shape[0], -1))\n",
        "    X_dev = np.reshape(X_dev, (X_dev.shape[0], -1))\n",
        "    \n",
        "    # Normalize the data: subtract the mean image\n",
        "    mean_image = np.mean(X_train, axis = 0)\n",
        "    X_train -= mean_image\n",
        "    X_val -= mean_image\n",
        "    X_test -= mean_image\n",
        "    X_dev -= mean_image\n",
        "    \n",
        "    # add bias dimension and transform into columns\n",
        "    X_train = np.hstack([X_train, np.ones((X_train.shape[0], 1))])\n",
        "    X_val = np.hstack([X_val, np.ones((X_val.shape[0], 1))])\n",
        "    X_test = np.hstack([X_test, np.ones((X_test.shape[0], 1))])\n",
        "    X_dev = np.hstack([X_dev, np.ones((X_dev.shape[0], 1))])\n",
        "    \n",
        "    return X_train, y_train, X_val, y_val, X_test, y_test, X_dev, y_dev\n",
        "\n",
        "\n",
        "# Invoke the above function to get our data.\n",
        "X_train, y_train, X_val, y_val, X_test, y_test, X_dev, y_dev = get_CIFAR10_data()\n",
        "print('Train data shape: ', X_train.shape)\n",
        "print('Train labels shape: ', y_train.shape)\n",
        "print('Validation data shape: ', X_val.shape)\n",
        "print('Validation labels shape: ', y_val.shape)\n",
        "print('Test data shape: ', X_test.shape)\n",
        "print('Test labels shape: ', y_test.shape)\n",
        "print('dev data shape: ', X_dev.shape)\n",
        "print('dev labels shape: ', y_dev.shape)"
      ],
      "execution_count": null,
      "outputs": [
        {
          "output_type": "stream",
          "name": "stdout",
          "text": [
            "Train data shape:  (49000, 3073)\n",
            "Train labels shape:  (49000,)\n",
            "Validation data shape:  (1000, 3073)\n",
            "Validation labels shape:  (1000,)\n",
            "Test data shape:  (1000, 3073)\n",
            "Test labels shape:  (1000,)\n",
            "dev data shape:  (500, 3073)\n",
            "dev labels shape:  (500,)\n"
          ]
        }
      ]
    },
    {
      "cell_type": "markdown",
      "metadata": {
        "id": "4a3TDPLXH34s"
      },
      "source": [
        "## Softmax Classifier\n",
        "\n",
        "Your code for this section will all be written inside `cs231n/classifiers/softmax.py`.\n"
      ]
    },
    {
      "cell_type": "code",
      "metadata": {
        "id": "79IGaLSEH34t",
        "colab": {
          "base_uri": "https://localhost:8080/"
        },
        "outputId": "3abf3b36-b6be-4a08-ae06-058c119bb650"
      },
      "source": [
        "# First implement the naive softmax loss function with nested loops.\n",
        "# Open the file cs231n/classifiers/softmax.py and implement the\n",
        "# softmax_loss_naive function.\n",
        "\n",
        "from cs231n.classifiers.softmax import softmax_loss_naive\n",
        "import time\n",
        "\n",
        "# Generate a random softmax weight matrix and use it to compute the loss./\n",
        "W = np.random.randn(3073, 10) * 0.0001\n",
        "loss, grad = softmax_loss_naive(W, X_dev, y_dev, 0.0)\n",
        "\n",
        "# As a rough sanity check, our loss should be something close to -log(0.1).\n",
        "print('loss: %f' % loss)\n",
        "print('sanity check: %f' % (-np.log(0.1)))"
      ],
      "execution_count": null,
      "outputs": [
        {
          "output_type": "stream",
          "name": "stdout",
          "text": [
            "loss: 2.334902\n",
            "sanity check: 2.302585\n"
          ]
        }
      ]
    },
    {
      "cell_type": "markdown",
      "metadata": {
        "tags": [
          "pdf-inline"
        ],
        "id": "PTnvj6j_H34u"
      },
      "source": [
        "**Inline Question 1**\n",
        "\n",
        "Why do we expect our loss to be close to -log(0.1)? Explain briefly.**\n",
        "\n",
        "$\\color{blue}{\\textit Your Answer:}$ *Fill this in* \n",
        "\n"
      ]
    },
    {
      "cell_type": "code",
      "metadata": {
        "id": "leR-8n86H34v",
        "colab": {
          "base_uri": "https://localhost:8080/"
        },
        "outputId": "3d0b0225-4e49-47d5-86ce-26be60799f96"
      },
      "source": [
        "# Complete the implementation of softmax_loss_naive and implement a (naive)\n",
        "# version of the gradient that uses nested loops.\n",
        "loss, grad = softmax_loss_naive(W, X_dev, y_dev, 0.0)\n",
        "\n",
        "# As we did for the SVM, use numeric gradient checking as a debugging tool.\n",
        "# The numeric gradient should be close to the analytic gradient.\n",
        "from cs231n.gradient_check import grad_check_sparse\n",
        "f = lambda w: softmax_loss_naive(w, X_dev, y_dev, 0.0)[0]\n",
        "grad_numerical = grad_check_sparse(f, W, grad, 10)\n",
        "\n",
        "# similar to SVM case, do another gradient check with regularization\n",
        "loss, grad = softmax_loss_naive(W, X_dev, y_dev, 5e1)\n",
        "f = lambda w: softmax_loss_naive(w, X_dev, y_dev, 5e1)[0]\n",
        "grad_numerical = grad_check_sparse(f, W, grad, 10)"
      ],
      "execution_count": null,
      "outputs": [
        {
          "output_type": "stream",
          "name": "stdout",
          "text": [
            "numerical: 1.780484 analytic: 1.780484, relative error: 4.454942e-08\n",
            "numerical: -2.865353 analytic: -2.865353, relative error: 1.086833e-08\n",
            "numerical: 0.635663 analytic: 0.635663, relative error: 9.354330e-08\n",
            "numerical: 1.809625 analytic: 1.809625, relative error: 3.999167e-08\n",
            "numerical: -1.838271 analytic: -1.838271, relative error: 2.517051e-11\n",
            "numerical: 1.977508 analytic: 1.977508, relative error: 3.662230e-09\n",
            "numerical: -0.326806 analytic: -0.326806, relative error: 1.646684e-07\n",
            "numerical: -0.871356 analytic: -0.871356, relative error: 2.708272e-09\n",
            "numerical: -1.765388 analytic: -1.765389, relative error: 1.887545e-08\n",
            "numerical: 0.289344 analytic: 0.289344, relative error: 9.308788e-09\n",
            "numerical: 0.025435 analytic: 0.024334, relative error: 2.211109e-02\n",
            "numerical: -3.672567 analytic: -3.677691, relative error: 6.971832e-04\n",
            "numerical: 1.978753 analytic: 1.980847, relative error: 5.290380e-04\n",
            "numerical: 1.449405 analytic: 1.452051, relative error: 9.117425e-04\n",
            "numerical: 1.131577 analytic: 1.124475, relative error: 3.148297e-03\n",
            "numerical: -4.283788 analytic: -4.286706, relative error: 3.404928e-04\n",
            "numerical: -2.217801 analytic: -2.216748, relative error: 2.374306e-04\n",
            "numerical: 1.321515 analytic: 1.322946, relative error: 5.408955e-04\n",
            "numerical: 0.247823 analytic: 0.239754, relative error: 1.654940e-02\n",
            "numerical: -1.286388 analytic: -1.275579, relative error: 4.219088e-03\n"
          ]
        }
      ]
    },
    {
      "cell_type": "code",
      "metadata": {
        "id": "ihzbFb2RH34x",
        "colab": {
          "base_uri": "https://localhost:8080/"
        },
        "outputId": "98b940bd-b186-45f3-9dee-f052201466b6"
      },
      "source": [
        "# Now that we have a naive implementation of the softmax loss function and its gradient,\n",
        "# implement a vectorized version in softmax_loss_vectorized.\n",
        "# The two versions should compute the same results, but the vectorized version should be\n",
        "# much faster.\n",
        "tic = time.time()\n",
        "loss_naive, grad_naive = softmax_loss_naive(W, X_dev, y_dev, 0.000005)\n",
        "toc = time.time()\n",
        "print('naive loss: %e computed in %fs' % (loss_naive, toc - tic))\n",
        "\n",
        "from cs231n.classifiers.softmax import softmax_loss_vectorized\n",
        "tic = time.time()\n",
        "loss_vectorized, grad_vectorized = softmax_loss_vectorized(W, X_dev, y_dev, 0.000005)\n",
        "toc = time.time()\n",
        "print('vectorized loss: %e computed in %fs' % (loss_vectorized, toc - tic))\n",
        "\n",
        "# As we did for the SVM, we use the Frobenius norm to compare the two versions\n",
        "# of the gradient.\n",
        "grad_difference = np.linalg.norm(grad_naive - grad_vectorized, ord='fro')\n",
        "print('Loss difference: %f' % np.abs(loss_naive - loss_vectorized))\n",
        "print('Gradient difference: %f' % grad_difference)"
      ],
      "execution_count": null,
      "outputs": [
        {
          "output_type": "stream",
          "name": "stdout",
          "text": [
            "naive loss: 2.334902e+00 computed in 39.510076s\n",
            "vectorized loss: 2.334902e+00 computed in 0.019848s\n",
            "Loss difference: 0.000000\n",
            "Gradient difference: 0.000000\n"
          ]
        }
      ]
    },
    {
      "cell_type": "code",
      "metadata": {
        "id": "tuning",
        "tags": [
          "code"
        ],
        "colab": {
          "base_uri": "https://localhost:8080/"
        },
        "outputId": "7f0164ea-2013-4a16-e868-dc39e8f56f98"
      },
      "source": [
        "# Use the validation set to tune hyperparameters (regularization strength and\n",
        "# learning rate). You should experiment with different ranges for the learning\n",
        "# rates and regularization strengths; if you are careful you should be able to\n",
        "# get a classification accuracy of over 0.35 on the validation set.\n",
        "\n",
        "from cs231n.classifiers import Softmax\n",
        "results = {}\n",
        "best_val = -1\n",
        "best_softmax = None\n",
        "\n",
        "################################################################################\n",
        "# TODO:                                                                        #\n",
        "# Use the validation set to set the learning rate and regularization strength. #\n",
        "# This should be identical to the validation that you did for the SVM; save    #\n",
        "# the best trained softmax classifer in best_softmax.                          #\n",
        "################################################################################\n",
        "\n",
        "# Provided as a reference. You may or may not want to change these hyperparameters\n",
        "learning_rates = [1e-7, 5e-7]\n",
        "regularization_strengths = [2.5e4, 5e4]\n",
        "\n",
        "# *****START OF YOUR CODE (DO NOT DELETE/MODIFY THIS LINE)*****\n",
        "\n",
        "for learning_rate in learning_rates:\n",
        "  for regularization_strength in regularization_strengths:\n",
        "    softmax_classifier = Softmax()\n",
        "    loss_hist = softmax_classifier.train(X_train, y_train, learning_rate=learning_rate, reg=regularization_strength, num_iters=1500, batch_size=200, verbose=True)\n",
        "    y_train_pred = softmax_classifier.predict(X_train)\n",
        "    training_accuracy = np.mean(y_train == y_train_pred)\n",
        "    y_valid_pred = softmax_classifier.predict(X_val)\n",
        "    validation_accuracy = np.mean(y_val == y_valid_pred)\n",
        "    \n",
        "    results[(learning_rate, regularization_strength)] = (training_accuracy, validation_accuracy)\n",
        "\n",
        "    if validation_accuracy > best_val:\n",
        "      best_val = validation_accuracy\n",
        "      best_softmax = softmax_classifier\n",
        "\n",
        "# *****END OF YOUR CODE (DO NOT DELETE/MODIFY THIS LINE)*****\n",
        "    \n",
        "# Print out results.\n",
        "for lr, reg in sorted(results):\n",
        "    train_accuracy, val_accuracy = results[(lr, reg)]\n",
        "    print('lr %e reg %e train accuracy: %f val accuracy: %f' % (\n",
        "                lr, reg, train_accuracy, val_accuracy))\n",
        "    \n",
        "print('best validation accuracy achieved during cross-validation: %f' % best_val)"
      ],
      "execution_count": null,
      "outputs": [
        {
          "output_type": "stream",
          "name": "stdout",
          "text": [
            "iteration 0 / 1500 | batch size 200 | loss 777.048180\n",
            "iteration 100 / 1500 | batch size 200 | loss 470.038226\n",
            "iteration 200 / 1500 | batch size 200 | loss 284.921730\n",
            "iteration 300 / 1500 | batch size 200 | loss 173.046371\n",
            "iteration 400 / 1500 | batch size 200 | loss 105.465652\n",
            "iteration 500 / 1500 | batch size 200 | loss 64.599254\n",
            "iteration 600 / 1500 | batch size 200 | loss 39.960746\n",
            "iteration 700 / 1500 | batch size 200 | loss 25.038141\n",
            "iteration 800 / 1500 | batch size 200 | loss 15.967726\n",
            "iteration 900 / 1500 | batch size 200 | loss 10.535599\n",
            "iteration 1000 / 1500 | batch size 200 | loss 7.225309\n",
            "iteration 1100 / 1500 | batch size 200 | loss 5.240116\n",
            "iteration 1200 / 1500 | batch size 200 | loss 3.981246\n",
            "iteration 1300 / 1500 | batch size 200 | loss 3.309707\n",
            "iteration 1400 / 1500 | batch size 200 | loss 2.829683\n",
            "iteration 0 / 1500 | batch size 200 | loss 1551.944157\n",
            "iteration 100 / 1500 | batch size 200 | loss 569.028276\n",
            "iteration 200 / 1500 | batch size 200 | loss 209.556515\n",
            "iteration 300 / 1500 | batch size 200 | loss 78.176014\n",
            "iteration 400 / 1500 | batch size 200 | loss 29.981922\n",
            "iteration 500 / 1500 | batch size 200 | loss 12.424858\n",
            "iteration 600 / 1500 | batch size 200 | loss 5.961228\n",
            "iteration 700 / 1500 | batch size 200 | loss 3.535996\n",
            "iteration 800 / 1500 | batch size 200 | loss 2.674828\n",
            "iteration 900 / 1500 | batch size 200 | loss 2.359381\n",
            "iteration 1000 / 1500 | batch size 200 | loss 2.203974\n",
            "iteration 1100 / 1500 | batch size 200 | loss 2.215939\n",
            "iteration 1200 / 1500 | batch size 200 | loss 2.180865\n",
            "iteration 1300 / 1500 | batch size 200 | loss 2.201041\n",
            "iteration 1400 / 1500 | batch size 200 | loss 2.194450\n",
            "iteration 0 / 1500 | batch size 200 | loss 774.587998\n",
            "iteration 100 / 1500 | batch size 200 | loss 63.679435\n",
            "iteration 200 / 1500 | batch size 200 | loss 7.021025\n",
            "iteration 300 / 1500 | batch size 200 | loss 2.521937\n",
            "iteration 400 / 1500 | batch size 200 | loss 2.168665\n",
            "iteration 500 / 1500 | batch size 200 | loss 2.145993\n",
            "iteration 600 / 1500 | batch size 200 | loss 2.105716\n",
            "iteration 700 / 1500 | batch size 200 | loss 2.141949\n",
            "iteration 800 / 1500 | batch size 200 | loss 2.055715\n",
            "iteration 900 / 1500 | batch size 200 | loss 2.070386\n",
            "iteration 1000 / 1500 | batch size 200 | loss 2.095233\n",
            "iteration 1100 / 1500 | batch size 200 | loss 2.074389\n",
            "iteration 1200 / 1500 | batch size 200 | loss 2.146284\n",
            "iteration 1300 / 1500 | batch size 200 | loss 2.072348\n",
            "iteration 1400 / 1500 | batch size 200 | loss 2.207019\n",
            "iteration 0 / 1500 | batch size 200 | loss 1537.235663\n",
            "iteration 100 / 1500 | batch size 200 | loss 11.683337\n",
            "iteration 200 / 1500 | batch size 200 | loss 2.230963\n",
            "iteration 300 / 1500 | batch size 200 | loss 2.230662\n",
            "iteration 400 / 1500 | batch size 200 | loss 2.210785\n",
            "iteration 500 / 1500 | batch size 200 | loss 2.168737\n",
            "iteration 600 / 1500 | batch size 200 | loss 2.184412\n",
            "iteration 700 / 1500 | batch size 200 | loss 2.129206\n",
            "iteration 800 / 1500 | batch size 200 | loss 2.235905\n",
            "iteration 900 / 1500 | batch size 200 | loss 2.142114\n",
            "iteration 1000 / 1500 | batch size 200 | loss 2.152939\n",
            "iteration 1100 / 1500 | batch size 200 | loss 2.235177\n",
            "iteration 1200 / 1500 | batch size 200 | loss 2.225708\n",
            "iteration 1300 / 1500 | batch size 200 | loss 2.149274\n",
            "iteration 1400 / 1500 | batch size 200 | loss 2.111712\n",
            "lr 1.000000e-07 reg 2.500000e+04 train accuracy: 0.349898 val accuracy: 0.357000\n",
            "lr 1.000000e-07 reg 5.000000e+04 train accuracy: 0.331959 val accuracy: 0.352000\n",
            "lr 5.000000e-07 reg 2.500000e+04 train accuracy: 0.348347 val accuracy: 0.357000\n",
            "lr 5.000000e-07 reg 5.000000e+04 train accuracy: 0.330204 val accuracy: 0.339000\n",
            "best validation accuracy achieved during cross-validation: 0.357000\n"
          ]
        }
      ]
    },
    {
      "cell_type": "code",
      "source": [
        "# A useful debugging strategy is to plot the loss as a function of\n",
        "# iteration number:\n",
        "plt.plot(loss_hist)\n",
        "plt.xlabel('Iteration number')\n",
        "plt.ylabel('Loss value')\n",
        "plt.title('Change in Loss value with Iteration')\n",
        "plt.show()"
      ],
      "metadata": {
        "colab": {
          "base_uri": "https://localhost:8080/",
          "height": 513
        },
        "id": "rh-eNIr6zkI9",
        "outputId": "8cf4f349-1c32-4c9f-ed61-d36ff476b5eb"
      },
      "execution_count": null,
      "outputs": [
        {
          "output_type": "display_data",
          "data": {
            "image/png": "[encoded data removed]",
            "text/plain": [
              "<Figure size 720x576 with 1 Axes>"
            ]
          },
          "metadata": {
            "needs_background": "light"
          }
        }
      ]
    },
    {
      "cell_type": "code",
      "metadata": {
        "id": "test",
        "colab": {
          "base_uri": "https://localhost:8080/"
        },
        "outputId": "14964f97-95b2-49ae-b883-541964f7fb6c"
      },
      "source": [
        "# evaluate on test set\n",
        "# Evaluate the best softmax on test set\n",
        "y_test_pred = best_softmax.predict(X_test)\n",
        "test_accuracy = np.mean(y_test == y_test_pred)\n",
        "print('softmax on raw pixels final test set accuracy: %f' % (test_accuracy, ))"
      ],
      "execution_count": null,
      "outputs": [
        {
          "output_type": "stream",
          "name": "stdout",
          "text": [
            "softmax on raw pixels final test set accuracy: 0.362000\n"
          ]
        }
      ]
    },
    {
      "cell_type": "markdown",
      "metadata": {
        "tags": [
          "pdf-inline"
        ],
        "id": "2kYv4TsMH341"
      },
      "source": [
        "**Inline Question 2** - *True or False*\n",
        "\n",
        "Suppose the overall training loss is defined as the sum of the per-datapoint loss over all training examples. It is possible to add a new datapoint to a training set that would leave the SVM loss unchanged, but this is not the case with the Softmax classifier loss.\n",
        "\n",
        "$\\color{blue}{\\textit Your Answer:}$\n",
        "\n",
        "\n",
        "$\\color{blue}{\\textit Your Explanation:}$\n",
        "\n"
      ]
    },
    {
      "cell_type": "code",
      "metadata": {
        "id": "QvwSDmuqH342",
        "colab": {
          "base_uri": "https://localhost:8080/",
          "height": 380
        },
        "outputId": "76a4be59-4420-4d0e-ebb4-59a97728e534"
      },
      "source": [
        "# Visualize the learned weights for each class\n",
        "w = best_softmax.W[:-1,:] # strip out the bias\n",
        "w = w.reshape(32, 32, 3, 10)\n",
        "\n",
        "w_min, w_max = np.min(w), np.max(w)\n",
        "\n",
        "classes = ['plane', 'car', 'bird', 'cat', 'deer', 'dog', 'frog', 'horse', 'ship', 'truck']\n",
        "for i in range(10):\n",
        "    plt.subplot(2, 5, i + 1)\n",
        "    \n",
        "    # Rescale the weights to be between 0 and 255\n",
        "    wimg = 255.0 * (w[:, :, :, i].squeeze() - w_min) / (w_max - w_min)\n",
        "    plt.imshow(wimg.astype('uint8'))\n",
        "    plt.axis('off')\n",
        "    plt.title(classes[i])"
      ],
      "execution_count": null,
      "outputs": [
        {
          "output_type": "display_data",
          "data": {
            "image/png": "[encoded data removed]",
            "text/plain": [
              "<Figure size 720x576 with 10 Axes>"
            ]
          },
          "metadata": {
            "needs_background": "light"
          }
        }
      ]
    },
    {
      "cell_type": "code",
      "metadata": {
        "id": "IWv0kBVLH342"
      },
      "source": [
        ""
      ],
      "execution_count": null,
      "outputs": []
    }
  ]
}